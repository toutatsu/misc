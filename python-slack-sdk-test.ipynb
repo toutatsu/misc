{
 "cells": [
  {
   "cell_type": "markdown",
   "id": "2d7b3a9c",
   "metadata": {
    "papermill": {
     "duration": 0.015268,
     "end_time": "2022-03-23T08:36:40.572683",
     "exception": false,
     "start_time": "2022-03-23T08:36:40.557415",
     "status": "completed"
    },
    "tags": []
   },
   "source": [
    "# Slack API test\n",
    "[Python Slack SDK](https://slack.dev/python-slack-sdk/index.html)"
   ]
  },
  {
   "cell_type": "markdown",
   "id": "72ae4771",
   "metadata": {
    "papermill": {
     "duration": 0.013272,
     "end_time": "2022-03-23T08:36:40.600820",
     "exception": false,
     "start_time": "2022-03-23T08:36:40.587548",
     "status": "completed"
    },
    "tags": []
   },
   "source": [
    "## import Libraries"
   ]
  },
  {
   "cell_type": "code",
   "execution_count": 1,
   "id": "68bf879b",
   "metadata": {
    "execution": {
     "iopub.execute_input": "2022-03-23T08:36:40.632375Z",
     "iopub.status.busy": "2022-03-23T08:36:40.631186Z",
     "iopub.status.idle": "2022-03-23T08:36:52.651066Z",
     "shell.execute_reply": "2022-03-23T08:36:52.649935Z",
     "shell.execute_reply.started": "2022-03-23T07:40:39.822500Z"
    },
    "papermill": {
     "duration": 12.036848,
     "end_time": "2022-03-23T08:36:52.651292",
     "exception": false,
     "start_time": "2022-03-23T08:36:40.614444",
     "status": "completed"
    },
    "tags": []
   },
   "outputs": [
    {
     "name": "stdout",
     "output_type": "stream",
     "text": [
      "Requirement already satisfied: slack_sdk in /Users/toutatsu/.anyenv/envs/pyenv/versions/3.8.8/lib/python3.8/site-packages (3.15.2)\n",
      "Note: you may need to restart the kernel to use updated packages.\n"
     ]
    }
   ],
   "source": [
    "#!pip install slack_sdk"
   ]
  },
  {
   "cell_type": "code",
   "execution_count": 1,
   "id": "c7f9af3f",
   "metadata": {
    "execution": {
     "iopub.execute_input": "2022-03-23T08:36:52.693148Z",
     "iopub.status.busy": "2022-03-23T08:36:52.690093Z",
     "iopub.status.idle": "2022-03-23T08:36:52.717033Z",
     "shell.execute_reply": "2022-03-23T08:36:52.717613Z",
     "shell.execute_reply.started": "2022-03-23T08:13:29.197815Z"
    },
    "papermill": {
     "duration": 0.04821,
     "end_time": "2022-03-23T08:36:52.717790",
     "exception": false,
     "start_time": "2022-03-23T08:36:52.669580",
     "status": "completed"
    },
    "tags": []
   },
   "outputs": [],
   "source": [
    "from slack_sdk import WebClient\n",
    "from slack_sdk.errors import SlackApiError"
   ]
  },
  {
   "cell_type": "code",
   "execution_count": 2,
   "id": "f3c10ccc",
   "metadata": {
    "execution": {
     "iopub.execute_input": "2022-03-23T08:36:52.755867Z",
     "iopub.status.busy": "2022-03-23T08:36:52.755203Z",
     "iopub.status.idle": "2022-03-23T08:36:52.758453Z",
     "shell.execute_reply": "2022-03-23T08:36:52.759036Z",
     "shell.execute_reply.started": "2022-03-23T08:03:02.543096Z"
    },
    "papermill": {
     "duration": 0.023638,
     "end_time": "2022-03-23T08:36:52.759206",
     "exception": false,
     "start_time": "2022-03-23T08:36:52.735568",
     "status": "completed"
    },
    "tags": []
   },
   "outputs": [],
   "source": [
    "import os\n",
    "import datetime"
   ]
  },
  {
   "cell_type": "markdown",
   "id": "3b6758b7",
   "metadata": {
    "papermill": {
     "duration": 0.017487,
     "end_time": "2022-03-23T08:36:52.794311",
     "exception": false,
     "start_time": "2022-03-23T08:36:52.776824",
     "status": "completed"
    },
    "tags": []
   },
   "source": [
    "## setting slack"
   ]
  },
  {
   "cell_type": "code",
   "execution_count": 4,
   "id": "89487a51",
   "metadata": {
    "execution": {
     "iopub.execute_input": "2022-03-23T08:36:52.832507Z",
     "iopub.status.busy": "2022-03-23T08:36:52.831806Z",
     "iopub.status.idle": "2022-03-23T08:36:52.836723Z",
     "shell.execute_reply": "2022-03-23T08:36:52.836172Z",
     "shell.execute_reply.started": "2022-03-23T07:45:23.033913Z"
    },
    "papermill": {
     "duration": 0.025194,
     "end_time": "2022-03-23T08:36:52.836858",
     "exception": false,
     "start_time": "2022-03-23T08:36:52.811664",
     "status": "completed"
    },
    "tags": []
   },
   "outputs": [],
   "source": [
    "# %%script echo skip\n",
    "\n",
    "class Slack_Config():\n",
    "    slack_token=os.environ[\"SLACK_BOT_TOKEN\"]\n",
    "    channels={\n",
    "        'slack_api_test':'',\n",
    "    }\n",
    "    \n",
    "client = WebClient(token=Slack_Config.slack_token)"
   ]
  },
  {
   "cell_type": "markdown",
   "id": "85f70a0d",
   "metadata": {
    "papermill": {
     "duration": 0.016896,
     "end_time": "2022-03-23T08:36:52.871434",
     "exception": false,
     "start_time": "2022-03-23T08:36:52.854538",
     "status": "completed"
    },
    "tags": []
   },
   "source": [
    "<h3><a src='https://api.slack.com/methods/chat.postMessage'>chat.postMessage</a></h3>"
   ]
  },
  {
   "cell_type": "code",
   "execution_count": 72,
   "id": "9686b9b8",
   "metadata": {
    "execution": {
     "iopub.execute_input": "2022-03-23T08:36:52.910241Z",
     "iopub.status.busy": "2022-03-23T08:36:52.909443Z",
     "iopub.status.idle": "2022-03-23T08:36:53.738566Z",
     "shell.execute_reply": "2022-03-23T08:36:53.737945Z",
     "shell.execute_reply.started": "2022-03-23T07:45:30.933497Z"
    },
    "papermill": {
     "duration": 0.850099,
     "end_time": "2022-03-23T08:36:53.738719",
     "exception": false,
     "start_time": "2022-03-23T08:36:52.888620",
     "status": "completed"
    },
    "tags": []
   },
   "outputs": [],
   "source": [
    "# %%script echo skip\n",
    "try:\n",
    "    response = client.chat_postMessage(\n",
    "        channel=Slack_Config.channels['slack_api_test'],\n",
    "        text=\"Hello from your app! :tada:\"\n",
    "    )\n",
    "except SlackApiError as e:\n",
    "    print(e.response[\"error\"])\n",
    "    # You will get a SlackApiError if \"ok\" is False\n",
    "    assert e.response[\"error\"]    # str like 'invalid_auth', 'channel_not_found'"
   ]
  },
  {
   "cell_type": "markdown",
   "id": "65715ff6",
   "metadata": {
    "papermill": {
     "duration": 0.017814,
     "end_time": "2022-03-23T08:36:53.810665",
     "exception": false,
     "start_time": "2022-03-23T08:36:53.792851",
     "status": "completed"
    },
    "tags": []
   },
   "source": [
    "<h3><a src='https://api.slack.com/block-kit'>block-kit</a></h3>"
   ]
  },
  {
   "cell_type": "code",
   "execution_count": 13,
   "id": "1a2279c2",
   "metadata": {},
   "outputs": [],
   "source": [
    "example_block=[\n",
    "    # header\n",
    "    {\n",
    "        \"type\": \"header\",\n",
    "        \"text\": {\n",
    "            \"type\": \"plain_text\",\n",
    "            \"text\": \"block sample\"\n",
    "        }\n",
    "\t},\n",
    "    # divider\n",
    "    {\n",
    "        \"type\": \"divider\"\n",
    "    },\n",
    "    # section\n",
    "    # mrkdwn\n",
    "    {\n",
    "        \"type\": \"section\",\n",
    "        \"text\": {\n",
    "            \"type\": \"mrkdwn\",\n",
    "            \"text\": \"This is mrkdwn section <example.com|example link>\\n\\n<https://api.slack.com/block-kit|block-kit>\"\n",
    "        },\n",
    "        \"accessory\": {\n",
    "            \"type\": \"image\",\n",
    "            \"image_url\": \"https://s3-media3.fl.yelpcdn.com/bphoto/c7ed05m9lC2EmA3Aruue7A/o.jpg\",\n",
    "            \"alt_text\": \"alt text for image\",\n",
    "        }\n",
    "    },\n",
    "    # fields\n",
    "    {\n",
    "\t\t\"type\": \"section\",\n",
    "\t\t\"fields\": [\n",
    "\t\t\t{\n",
    "\t\t\t\t\"type\": \"mrkdwn\",\n",
    "\t\t\t\t\"text\": \"*fields*\\ntest\"\n",
    "\t\t\t},\n",
    "\t\t\t{\n",
    "\t\t\t\t\"type\": \"mrkdwn\",\n",
    "\t\t\t\t\"text\": \"*fields 2:*\\n<example.com|Fred Enriquez>\"\n",
    "\t\t\t}\n",
    "\t\t]\n",
    "\t},\n",
    "    # context\n",
    "    {\n",
    "        \"type\": \"context\",\n",
    "        \"elements\": [\n",
    "            {\n",
    "                \"type\": \"image\",\n",
    "                \"image_url\": \"https://image.freepik.com/free-photo/red-drawing-pin_1156-445.jpg\",\n",
    "                \"alt_text\": \"images\"\n",
    "            },\n",
    "            {\n",
    "                \"type\": \"mrkdwn\",\n",
    "                \"text\": \"*context*: image and text\"\n",
    "            }\n",
    "        ]\n",
    "    },\n",
    "    # image\n",
    "    {\n",
    "        \"type\": \"image\",\n",
    "        \"title\": {\n",
    "            \"type\": \"plain_text\",\n",
    "            \"text\": \"Please enjoy this photo of a kitten\"\n",
    "        },\n",
    "        \"block_id\": \"image4\",\n",
    "        \"image_url\": \"http://placekitten.com/500/500\",\n",
    "        \"alt_text\": \"An incredibly cute kitten.\"\n",
    "    }\n",
    "]"
   ]
  },
  {
   "cell_type": "code",
   "execution_count": 36,
   "id": "544fe931",
   "metadata": {
    "execution": {
     "iopub.execute_input": "2022-03-23T08:36:53.848515Z",
     "iopub.status.busy": "2022-03-23T08:36:53.847848Z",
     "iopub.status.idle": "2022-03-23T08:36:53.853509Z",
     "shell.execute_reply": "2022-03-23T08:36:53.854179Z",
     "shell.execute_reply.started": "2022-03-23T08:22:16.188109Z"
    },
    "papermill": {
     "duration": 0.026399,
     "end_time": "2022-03-23T08:36:53.854351",
     "exception": false,
     "start_time": "2022-03-23T08:36:53.827952",
     "status": "completed"
    },
    "tags": []
   },
   "outputs": [],
   "source": [
    "def template_block(text):\n",
    "    block=[#ヘッダー#現在時刻\n",
    "        {\n",
    "            \"type\": \"context\",\n",
    "            \"elements\": [\n",
    "                {\n",
    "                    \"type\": \"plain_text\",\n",
    "                    \"text\": (\n",
    "                        datetime.datetime.utcnow() + datetime.timedelta(hours=9)).strftime('%Y年%m月%d日 %H:%M:%S'),\n",
    "                    \"emoji\": True\n",
    "                }\n",
    "            ]\n",
    "        },\n",
    "        {\"type\": \"divider\"},\n",
    "        {\n",
    "            \"type\": \"section\",\n",
    "            \"text\": {\n",
    "                \"type\": \"mrkdwn\",\n",
    "                \"text\": text\n",
    "            }\n",
    "        }\n",
    "    ]\n",
    "    return block"
   ]
  },
  {
   "cell_type": "markdown",
   "id": "ab102e1a",
   "metadata": {
    "papermill": {
     "duration": 0.017056,
     "end_time": "2022-03-23T08:36:53.774712",
     "exception": false,
     "start_time": "2022-03-23T08:36:53.757656",
     "status": "completed"
    },
    "tags": []
   },
   "source": [
    "<h3><a src='https://api.slack.com/methods/chat.update'>chat.update</a></h3>"
   ]
  },
  {
   "cell_type": "code",
   "execution_count": 14,
   "id": "b4a317de",
   "metadata": {
    "execution": {
     "iopub.execute_input": "2022-03-23T08:36:53.892645Z",
     "iopub.status.busy": "2022-03-23T08:36:53.891788Z",
     "iopub.status.idle": "2022-03-23T08:36:54.713672Z",
     "shell.execute_reply": "2022-03-23T08:36:54.712907Z",
     "shell.execute_reply.started": "2022-03-23T08:22:35.413621Z"
    },
    "papermill": {
     "duration": 0.842036,
     "end_time": "2022-03-23T08:36:54.713817",
     "exception": false,
     "start_time": "2022-03-23T08:36:53.871781",
     "status": "completed"
    },
    "tags": []
   },
   "outputs": [],
   "source": [
    "#%%script echo skip\n",
    "try:\n",
    "    response = client.chat_update(\n",
    "        channel=Slack_Config.channels['slack_api_test'],\n",
    "        ts='1648285627.825679',\n",
    "        text=\"blocks test\",\n",
    "        blocks=example_block\n",
    "    )\n",
    "\n",
    "except SlackApiError as e:\n",
    "    print(e.response[\"error\"])\n",
    "    assert e.response[\"error\"]    # str like 'invalid_auth', 'channel_not_found'"
   ]
  },
  {
   "cell_type": "markdown",
   "id": "106b979e",
   "metadata": {
    "papermill": {
     "duration": 0.017244,
     "end_time": "2022-03-23T08:36:54.748644",
     "exception": false,
     "start_time": "2022-03-23T08:36:54.731400",
     "status": "completed"
    },
    "tags": []
   },
   "source": [
    "### progress bar"
   ]
  },
  {
   "cell_type": "code",
   "execution_count": 48,
   "id": "374ff1a0",
   "metadata": {
    "execution": {
     "iopub.execute_input": "2022-03-23T08:36:54.791720Z",
     "iopub.status.busy": "2022-03-23T08:36:54.791035Z",
     "iopub.status.idle": "2022-03-23T08:37:13.054129Z",
     "shell.execute_reply": "2022-03-23T08:37:13.053542Z",
     "shell.execute_reply.started": "2022-03-23T08:23:11.783225Z"
    },
    "papermill": {
     "duration": 18.288306,
     "end_time": "2022-03-23T08:37:13.054283",
     "exception": false,
     "start_time": "2022-03-23T08:36:54.765977",
     "status": "completed"
    },
    "tags": []
   },
   "outputs": [
    {
     "name": "stdout",
     "output_type": "stream",
     "text": [
      "epoch:0\n",
      "cant_update_message\n",
      "epoch:1\n",
      "cant_update_message\n",
      "epoch:2\n",
      "cant_update_message\n",
      "epoch:3\n",
      "cant_update_message\n",
      "epoch:4\n",
      "cant_update_message\n",
      "epoch:5\n",
      "cant_update_message\n",
      "epoch:6\n",
      "cant_update_message\n",
      "epoch:7\n",
      "cant_update_message\n",
      "epoch:8\n",
      "cant_update_message\n",
      "epoch:9\n",
      "cant_update_message\n"
     ]
    }
   ],
   "source": [
    "# %%script echo skip\n",
    "from tqdm import tqdm\n",
    "import io\n",
    "import time\n",
    "tqdm_bar=io.StringIO()\n",
    "for epoch in tqdm(range(10),file=tqdm_bar,desc=\"説明\"):\n",
    "    print(f'epoch:{epoch}')\n",
    "    \n",
    "    try:\n",
    "        response = client.chat_update(\n",
    "            channel=Slack_Config.channels['slack_api_test'],\n",
    "            ts='',\n",
    "            text=\"blocks test\",\n",
    "            blocks=template_block(\n",
    "                \"[train] Epoch {epoch} \"+tqdm_bar.getvalue().split('\\r')[-1]+f\" loss={epoch} acch={epoch}\"\n",
    "            )\n",
    "        )\n",
    "\n",
    "    except SlackApiError as e:\n",
    "        print(e.response[\"error\"])\n",
    "        assert e.response[\"error\"]    # str like 'invalid_auth', 'channel_not_found'\n",
    "\n",
    "    time.sleep(1)"
   ]
  },
  {
   "cell_type": "markdown",
   "id": "9aa79b75",
   "metadata": {
    "papermill": {
     "duration": 0.020377,
     "end_time": "2022-03-23T08:37:13.095140",
     "exception": false,
     "start_time": "2022-03-23T08:37:13.074763",
     "status": "completed"
    },
    "tags": []
   },
   "source": [
    "<h3><a src='https://api.slack.com/methods/files.uploade'>files.uploade</a></h3>"
   ]
  },
  {
   "cell_type": "code",
   "execution_count": 66,
   "id": "e37f3456",
   "metadata": {
    "execution": {
     "iopub.execute_input": "2022-03-23T08:37:13.144115Z",
     "iopub.status.busy": "2022-03-23T08:37:13.139019Z",
     "iopub.status.idle": "2022-03-23T08:37:13.460597Z",
     "shell.execute_reply": "2022-03-23T08:37:13.461138Z",
     "shell.execute_reply.started": "2022-03-23T08:28:02.168045Z"
    },
    "papermill": {
     "duration": 0.345441,
     "end_time": "2022-03-23T08:37:13.461318",
     "exception": false,
     "start_time": "2022-03-23T08:37:13.115877",
     "status": "completed"
    },
    "tags": []
   },
   "outputs": [],
   "source": [
    "#%%script echo skip\n",
    "#https://qiita.com/kaito__/items/9aa63cccc99261814065\n",
    "\n",
    "import numpy as np\n",
    "import matplotlib.pyplot as plt\n",
    "# 適当なグラフを作成\n",
    "rand = np.random.RandomState(42)\n",
    "\n",
    "mean = [0, 0]\n",
    "cov = [[1, 2], [2, 5]]\n",
    "X = rand.multivariate_normal(mean, cov, 100)\n",
    "\n",
    "#fig = plt.figure()\n",
    "plt.scatter(X[:, 0], X[:, -1])\n",
    "\n",
    "# io を用いてメモリ上に保存\n",
    "sio = io.BytesIO()\n",
    "plt.savefig(sio, format=\"png\")\n",
    "\n",
    "# グラフの出力をしない\n",
    "plt.close()"
   ]
  },
  {
   "cell_type": "code",
   "execution_count": null,
   "id": "611fc6ef",
   "metadata": {},
   "outputs": [],
   "source": []
  },
  {
   "cell_type": "code",
   "execution_count": 1,
   "id": "2fcfc260",
   "metadata": {
    "execution": {
     "iopub.execute_input": "2022-03-23T08:37:13.511207Z",
     "iopub.status.busy": "2022-03-23T08:37:13.510466Z",
     "iopub.status.idle": "2022-03-23T08:37:13.533634Z",
     "shell.execute_reply": "2022-03-23T08:37:13.534213Z",
     "shell.execute_reply.started": "2022-03-23T08:35:24.843165Z"
    },
    "papermill": {
     "duration": 0.05104,
     "end_time": "2022-03-23T08:37:13.534394",
     "exception": false,
     "start_time": "2022-03-23T08:37:13.483354",
     "status": "completed"
    },
    "tags": []
   },
   "outputs": [
    {
     "name": "stdout",
     "output_type": "stream",
     "text": [
      "skip\n"
     ]
    }
   ],
   "source": [
    "# %%script echo skip\n",
    "try:\n",
    "    response = client.files_upload(\n",
    "        channel=Slack_Config.channels['slack_api_test'],\n",
    "        title=\"Test upload\",\n",
    "        file=sio.getvalue(),\n",
    "    )\n",
    "\n",
    "\n",
    "except SlackApiError as e:\n",
    "    print(e.response[\"error\"])\n",
    "    assert e.response[\"error\"]"
   ]
  },
  {
   "cell_type": "code",
   "execution_count": null,
   "id": "f02f5d0c",
   "metadata": {},
   "outputs": [],
   "source": []
  }
 ],
 "metadata": {
  "kernelspec": {
   "display_name": "Python 3",
   "language": "python",
   "name": "python3"
  },
  "language_info": {
   "codemirror_mode": {
    "name": "ipython",
    "version": 3
   },
   "file_extension": ".py",
   "mimetype": "text/x-python",
   "name": "python",
   "nbconvert_exporter": "python",
   "pygments_lexer": "ipython3",
   "version": "3.8.8"
  },
  "papermill": {
   "default_parameters": {},
   "duration": 43.949161,
   "end_time": "2022-03-23T08:37:15.184507",
   "environment_variables": {},
   "exception": null,
   "input_path": "__notebook__.ipynb",
   "output_path": "__notebook__.ipynb",
   "parameters": {},
   "start_time": "2022-03-23T08:36:31.235346",
   "version": "2.3.3"
  }
 },
 "nbformat": 4,
 "nbformat_minor": 5
}
